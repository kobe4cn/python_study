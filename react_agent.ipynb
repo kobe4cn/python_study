{
 "cells": [
  {
   "cell_type": "code",
   "execution_count": 1,
   "id": "17eae6e9",
   "metadata": {},
   "outputs": [
    {
     "name": "stdout",
     "output_type": "stream",
     "text": [
      "Now using Node v24.8.0 (npm 11.6.0) ~/.local/share/nvm/v24.8.0/bin/node\n",
      "\u001b[2K\u001b[2mResolved \u001b[1m55 packages\u001b[0m \u001b[2min 2.75s\u001b[0m\u001b[0m                                        \u001b[0m\n",
      "\u001b[2K\u001b[37m⠹\u001b[0m \u001b[2mPreparing packages...\u001b[0m (0/4)                                                   \n",
      "\u001b[2K\u001b[1A\u001b[37m⠹\u001b[0m \u001b[2mPreparing packages...\u001b[0m (0/4)--------------\u001b[0m\u001b[0m     0 B/12.46 KiB           \u001b[1A\n",
      "\u001b[2K\u001b[1A\u001b[37m⠹\u001b[0m \u001b[2mPreparing packages...\u001b[0m (0/4)----------\u001b[2m\u001b[0m\u001b[0m 12.46 KiB/12.46 KiB         \u001b[1A\n",
      "\u001b[2K\u001b[1A\u001b[37m⠹\u001b[0m \u001b[2mPreparing packages...\u001b[0m (0/4)----------\u001b[2m\u001b[0m\u001b[0m 12.46 KiB/12.46 KiB         \u001b[1A\n",
      "\u001b[2msocksio             \u001b[0m \u001b[32m------------------------------\u001b[2m\u001b[0m\u001b[0m 12.46 KiB/12.46 KiB\n",
      "\u001b[2K\u001b[2A\u001b[37m⠹\u001b[0m \u001b[2mPreparing packages...\u001b[0m (0/4)--------------\u001b[0m\u001b[0m     0 B/2.42 MiB            \u001b[2A\n",
      "\u001b[2K\u001b[1A\u001b[37m⠸\u001b[0m \u001b[2mPreparing packages...\u001b[0m (1/4)--------------\u001b[0m\u001b[0m     0 B/2.42 MiB            \u001b[1A\n",
      "\u001b[2K\u001b[1A\u001b[37m⠸\u001b[0m \u001b[2mPreparing packages...\u001b[0m (1/4)--------------\u001b[0m\u001b[0m     0 B/2.42 MiB            \u001b[1A\n",
      "\u001b[2K\u001b[1A\u001b[37m⠸\u001b[0m \u001b[2mPreparing packages...\u001b[0m (1/4)--------------\u001b[0m\u001b[0m 16.00 KiB/2.42 MiB          \u001b[1A\n",
      "\u001b[2K\u001b[1A\u001b[37m⠸\u001b[0m \u001b[2mPreparing packages...\u001b[0m (1/4)--------------\u001b[0m\u001b[0m 32.00 KiB/2.42 MiB          \u001b[1A\n",
      "\u001b[2K\u001b[1A\u001b[37m⠸\u001b[0m \u001b[2mPreparing packages...\u001b[0m (1/4)--------------\u001b[0m\u001b[0m 45.29 KiB/2.42 MiB          \u001b[1A\n",
      "\u001b[2K\u001b[1A\u001b[37m⠼\u001b[0m \u001b[2mPreparing packages...\u001b[0m (1/4)--------------\u001b[0m\u001b[0m 61.29 KiB/2.42 MiB          \u001b[1A\n",
      "\u001b[2K\u001b[1A\u001b[37m⠼\u001b[0m \u001b[2mPreparing packages...\u001b[0m (1/4)--------------\u001b[0m\u001b[0m 61.29 KiB/2.42 MiB          \u001b[1A\n",
      "\u001b[2K\u001b[1A\u001b[37m⠼\u001b[0m \u001b[2mPreparing packages...\u001b[0m (1/4)--------------\u001b[0m\u001b[0m 77.29 KiB/2.42 MiB          \u001b[1A\n",
      "\u001b[2K\u001b[1A\u001b[37m⠼\u001b[0m \u001b[2mPreparing packages...\u001b[0m (1/4)--------------\u001b[0m\u001b[0m 93.29 KiB/2.42 MiB          \u001b[1A\n",
      "\u001b[2K\u001b[1A\u001b[37m⠼\u001b[0m \u001b[2mPreparing packages...\u001b[0m (1/4)--------------\u001b[0m\u001b[0m 97.29 KiB/2.42 MiB          \u001b[1A\n",
      "\u001b[2K\u001b[1A\u001b[37m⠼\u001b[0m \u001b[2mPreparing packages...\u001b[0m (1/4)--------------\u001b[0m\u001b[0m 97.29 KiB/2.42 MiB          \u001b[1A\n",
      "\u001b[2mlangchain-community \u001b[0m \u001b[32m--\u001b[2m----------------------------\u001b[0m\u001b[0m 97.29 KiB/2.42 MiB\n",
      "\u001b[2K\u001b[2A\u001b[37m⠼\u001b[0m \u001b[2mPreparing packages...\u001b[0m (1/4)--------------\u001b[0m\u001b[0m     0 B/8.23 MiB            \u001b[2A\n",
      "\u001b[2mlangchain-community \u001b[0m \u001b[32m--\u001b[2m----------------------------\u001b[0m\u001b[0m 97.29 KiB/2.42 MiB\n",
      "\u001b[2K\u001b[2A\u001b[37m⠼\u001b[0m \u001b[2mPreparing packages...\u001b[0m (1/4)--------------\u001b[0m\u001b[0m     0 B/8.23 MiB            \u001b[2A\n",
      "\u001b[2mlangchain-community \u001b[0m \u001b[32m--\u001b[2m----------------------------\u001b[0m\u001b[0m 97.29 KiB/2.42 MiB\n",
      "\u001b[2K\u001b[2A\u001b[37m⠼\u001b[0m \u001b[2mPreparing packages...\u001b[0m (1/4)--------------\u001b[0m\u001b[0m     0 B/8.23 MiB            \u001b[2A\n",
      "\u001b[2mddgs                \u001b[0m \u001b[32m\u001b[2m------------------------------\u001b[0m\u001b[0m     0 B/40.58 KiB\n",
      "\u001b[2mlangchain-community \u001b[0m \u001b[32m--\u001b[2m----------------------------\u001b[0m\u001b[0m 97.29 KiB/2.42 MiB\n",
      "\u001b[2K\u001b[3A\u001b[37m⠼\u001b[0m \u001b[2mPreparing packages...\u001b[0m (1/4)--------------\u001b[0m\u001b[0m     0 B/8.23 MiB            \u001b[3A\n",
      "\u001b[2mddgs                \u001b[0m \u001b[32m\u001b[2m------------------------------\u001b[0m\u001b[0m     0 B/40.58 KiB\n",
      "\u001b[2mlangchain-community \u001b[0m \u001b[32m--\u001b[2m----------------------------\u001b[0m\u001b[0m 113.29 KiB/2.42 MiB\n",
      "\u001b[2K\u001b[3A\u001b[37m⠼\u001b[0m \u001b[2mPreparing packages...\u001b[0m (1/4)--------------\u001b[0m\u001b[0m     0 B/8.23 MiB            \u001b[3A\n",
      "\u001b[2mddgs                \u001b[0m \u001b[32m\u001b[2m------------------------------\u001b[0m\u001b[0m     0 B/40.58 KiB\n",
      "\u001b[2mlangchain-community \u001b[0m \u001b[32m--\u001b[2m----------------------------\u001b[0m\u001b[0m 125.29 KiB/2.42 MiB\n",
      "\u001b[2K\u001b[3A\u001b[37m⠼\u001b[0m \u001b[2mPreparing packages...\u001b[0m (1/4)--------------\u001b[0m\u001b[0m     0 B/8.23 MiB            \u001b[3A\n",
      "\u001b[2mddgs                \u001b[0m \u001b[32m\u001b[2m------------------------------\u001b[0m\u001b[0m     0 B/40.58 KiB\n",
      "\u001b[2mlangchain-community \u001b[0m \u001b[32m--\u001b[2m----------------------------\u001b[0m\u001b[0m 125.29 KiB/2.42 MiB\n",
      "\u001b[2K\u001b[3A\u001b[37m⠼\u001b[0m \u001b[2mPreparing packages...\u001b[0m (1/4)--------------\u001b[0m\u001b[0m 16.00 KiB/8.23 MiB          \u001b[3A\n",
      "\u001b[2mddgs                \u001b[0m \u001b[32m------------\u001b[2m------------------\u001b[0m\u001b[0m 16.00 KiB/40.58 KiB\n",
      "\u001b[2mlangchain-community \u001b[0m \u001b[32m--\u001b[2m----------------------------\u001b[0m\u001b[0m 125.29 KiB/2.42 MiB\n",
      "\u001b[2K\u001b[3A\u001b[37m⠼\u001b[0m \u001b[2mPreparing packages...\u001b[0m (1/4)--------------\u001b[0m\u001b[0m 16.00 KiB/8.23 MiB          \u001b[3A\n",
      "\u001b[2mddgs                \u001b[0m \u001b[32m------------\u001b[2m------------------\u001b[0m\u001b[0m 16.00 KiB/40.58 KiB\n",
      "\u001b[2mlangchain-community \u001b[0m \u001b[32m--\u001b[2m----------------------------\u001b[0m\u001b[0m 141.29 KiB/2.42 MiB\n",
      "\u001b[2K\u001b[3A\u001b[37m⠼\u001b[0m \u001b[2mPreparing packages...\u001b[0m (1/4)--------------\u001b[0m\u001b[0m 16.00 KiB/8.23 MiB          \u001b[3A\n",
      "\u001b[2mddgs                \u001b[0m \u001b[32m------------------------\u001b[2m------\u001b[0m\u001b[0m 32.00 KiB/40.58 KiB\n",
      "\u001b[2mlangchain-community \u001b[0m \u001b[32m--\u001b[2m----------------------------\u001b[0m\u001b[0m 141.29 KiB/2.42 MiB\n",
      "\u001b[2K\u001b[3A\u001b[37m⠼\u001b[0m \u001b[2mPreparing packages...\u001b[0m (1/4)--------------\u001b[0m\u001b[0m 16.00 KiB/8.23 MiB          \u001b[3A\n",
      "\u001b[2mddgs                \u001b[0m \u001b[32m------------------------\u001b[2m------\u001b[0m\u001b[0m 32.00 KiB/40.58 KiB\n",
      "\u001b[2mlangchain-community \u001b[0m \u001b[32m--\u001b[2m----------------------------\u001b[0m\u001b[0m 157.29 KiB/2.42 MiB\n",
      "\u001b[2K\u001b[3A\u001b[37m⠼\u001b[0m \u001b[2mPreparing packages...\u001b[0m (1/4)--------------\u001b[0m\u001b[0m 16.00 KiB/8.23 MiB          \u001b[3A\n",
      "\u001b[2mddgs                \u001b[0m \u001b[32m------------------------------\u001b[2m\u001b[0m\u001b[0m 40.58 KiB/40.58 KiB\n",
      "\u001b[2mlangchain-community \u001b[0m \u001b[32m--\u001b[2m----------------------------\u001b[0m\u001b[0m 157.29 KiB/2.42 MiB\n",
      "\u001b[2K\u001b[3A\u001b[37m⠼\u001b[0m \u001b[2mPreparing packages...\u001b[0m (1/4)--------------\u001b[0m\u001b[0m 16.00 KiB/8.23 MiB          \u001b[3A\n",
      "\u001b[2mlangchain-community \u001b[0m \u001b[32m--\u001b[2m----------------------------\u001b[0m\u001b[0m 157.29 KiB/2.42 MiB\n",
      "\u001b[2K\u001b[2A\u001b[37m⠴\u001b[0m \u001b[2mPreparing packages...\u001b[0m (2/4)--------------\u001b[0m\u001b[0m 16.00 KiB/8.23 MiB          \u001b[2A\n",
      "\u001b[2mlangchain-community \u001b[0m \u001b[32m--\u001b[2m----------------------------\u001b[0m\u001b[0m 157.29 KiB/2.42 MiB\n",
      "\u001b[2K\u001b[2A\u001b[37m⠴\u001b[0m \u001b[2mPreparing packages...\u001b[0m (2/4)--------------\u001b[0m\u001b[0m 16.00 KiB/8.23 MiB          \u001b[2A\n",
      "\u001b[2mlangchain-community \u001b[0m \u001b[32m---\u001b[2m---------------------------\u001b[0m\u001b[0m 173.29 KiB/2.42 MiB\n",
      "\u001b[2K\u001b[2A\u001b[37m⠴\u001b[0m \u001b[2mPreparing packages...\u001b[0m (2/4)--------------\u001b[0m\u001b[0m 16.00 KiB/8.23 MiB          \u001b[2A\n",
      "\u001b[2mlangchain-community \u001b[0m \u001b[32m---\u001b[2m---------------------------\u001b[0m\u001b[0m 189.29 KiB/2.42 MiB\n",
      "\u001b[2K\u001b[2A\u001b[37m⠴\u001b[0m \u001b[2mPreparing packages...\u001b[0m (2/4)--------------\u001b[0m\u001b[0m 16.00 KiB/8.23 MiB          \u001b[2A\n",
      "\u001b[2mlangchain-community \u001b[0m \u001b[32m---\u001b[2m---------------------------\u001b[0m\u001b[0m 189.29 KiB/2.42 MiB\n",
      "\u001b[2K\u001b[2A\u001b[37m⠴\u001b[0m \u001b[2mPreparing packages...\u001b[0m (2/4)--------------\u001b[0m\u001b[0m 32.00 KiB/8.23 MiB          \u001b[2A\n",
      "\u001b[2mlangchain-community \u001b[0m \u001b[32m---\u001b[2m---------------------------\u001b[0m\u001b[0m 205.29 KiB/2.42 MiB\n",
      "\u001b[2K\u001b[2A\u001b[37m⠴\u001b[0m \u001b[2mPreparing packages...\u001b[0m (2/4)--------------\u001b[0m\u001b[0m 32.00 KiB/8.23 MiB          \u001b[2A\n",
      "\u001b[2mlangchain-community \u001b[0m \u001b[32m---\u001b[2m---------------------------\u001b[0m\u001b[0m 205.29 KiB/2.42 MiB\n",
      "\u001b[2K\u001b[2A\u001b[37m⠴\u001b[0m \u001b[2mPreparing packages...\u001b[0m (2/4)--------------\u001b[0m\u001b[0m 48.00 KiB/8.23 MiB          \u001b[2A\n",
      "\u001b[2mlangchain-community \u001b[0m \u001b[32m---\u001b[2m---------------------------\u001b[0m\u001b[0m 221.29 KiB/2.42 MiB\n",
      "\u001b[2K\u001b[2A\u001b[37m⠴\u001b[0m \u001b[2mPreparing packages...\u001b[0m (2/4)--------------\u001b[0m\u001b[0m 48.00 KiB/8.23 MiB          \u001b[2A\n",
      "\u001b[2mlangchain-community \u001b[0m \u001b[32m---\u001b[2m---------------------------\u001b[0m\u001b[0m 221.29 KiB/2.42 MiB\n",
      "\u001b[2K\u001b[2A\u001b[37m⠴\u001b[0m \u001b[2mPreparing packages...\u001b[0m (2/4)--------------\u001b[0m\u001b[0m 64.00 KiB/8.23 MiB          \u001b[2A\n",
      "\u001b[2mlangchain-community \u001b[0m \u001b[32m----\u001b[2m--------------------------\u001b[0m\u001b[0m 269.29 KiB/2.42 MiB\n",
      "\u001b[2K\u001b[2A\u001b[37m⠴\u001b[0m \u001b[2mPreparing packages...\u001b[0m (2/4)--------------\u001b[0m\u001b[0m 80.00 KiB/8.23 MiB          \u001b[2A\n",
      "\u001b[2mlangchain-community \u001b[0m \u001b[32m-----\u001b[2m-------------------------\u001b[0m\u001b[0m 333.29 KiB/2.42 MiB\n",
      "\u001b[2K\u001b[2A\u001b[37m⠦\u001b[0m \u001b[2mPreparing packages...\u001b[0m (2/4)--------------\u001b[0m\u001b[0m 112.00 KiB/8.23 MiB         \u001b[2A\n",
      "\u001b[2mlangchain-community \u001b[0m \u001b[32m-----\u001b[2m-------------------------\u001b[0m\u001b[0m 381.29 KiB/2.42 MiB\n",
      "\u001b[2K\u001b[2A\u001b[37m⠦\u001b[0m \u001b[2mPreparing packages...\u001b[0m (2/4)--------------\u001b[0m\u001b[0m 176.00 KiB/8.23 MiB         \u001b[2A\n",
      "\u001b[2mlangchain-community \u001b[0m \u001b[32m------\u001b[2m------------------------\u001b[0m\u001b[0m 429.29 KiB/2.42 MiB\n",
      "\u001b[2K\u001b[2A\u001b[37m⠦\u001b[0m \u001b[2mPreparing packages...\u001b[0m (2/4)--------------\u001b[0m\u001b[0m 256.00 KiB/8.23 MiB         \u001b[2A\n",
      "\u001b[2mlangchain-community \u001b[0m \u001b[32m------\u001b[2m------------------------\u001b[0m\u001b[0m 461.29 KiB/2.42 MiB\n",
      "\u001b[2K\u001b[2A\u001b[37m⠦\u001b[0m \u001b[2mPreparing packages...\u001b[0m (2/4)--------------\u001b[0m\u001b[0m 384.00 KiB/8.23 MiB         \u001b[2A\n",
      "\u001b[2mlangchain-community \u001b[0m \u001b[32m-------\u001b[2m-----------------------\u001b[0m\u001b[0m 541.29 KiB/2.42 MiB\n",
      "\u001b[2K\u001b[2A\u001b[37m⠧\u001b[0m \u001b[2mPreparing packages...\u001b[0m (2/4)--------------\u001b[0m\u001b[0m 512.00 KiB/8.23 MiB         \u001b[2A\n",
      "\u001b[2mlangchain-community \u001b[0m \u001b[32m--------\u001b[2m----------------------\u001b[0m\u001b[0m 621.29 KiB/2.42 MiB\n",
      "\u001b[2K\u001b[2A\u001b[37m⠧\u001b[0m \u001b[2mPreparing packages...\u001b[0m (2/4)--------------\u001b[0m\u001b[0m 640.00 KiB/8.23 MiB         \u001b[2A\n",
      "\u001b[2mlangchain-community \u001b[0m \u001b[32m-----------\u001b[2m-------------------\u001b[0m\u001b[0m 845.29 KiB/2.42 MiB\n",
      "\u001b[2K\u001b[2A\u001b[37m⠧\u001b[0m \u001b[2mPreparing packages...\u001b[0m (2/4)--------------\u001b[0m\u001b[0m 736.00 KiB/8.23 MiB         \u001b[2A\n",
      "\u001b[2mlangchain-community \u001b[0m \u001b[32m------------\u001b[2m------------------\u001b[0m\u001b[0m 961.29 KiB/2.42 MiB\n",
      "\u001b[2K\u001b[2A\u001b[37m⠧\u001b[0m \u001b[2mPreparing packages...\u001b[0m (2/4)--------------\u001b[0m\u001b[0m 960.00 KiB/8.23 MiB         \u001b[2A\n",
      "\u001b[2mlangchain-community \u001b[0m \u001b[32m---------------\u001b[2m---------------\u001b[0m\u001b[0m 1.16 MiB/2.42 MiB\n",
      "\u001b[2K\u001b[2A\u001b[37m⠇\u001b[0m \u001b[2mPreparing packages...\u001b[0m (2/4)--------------\u001b[0m\u001b[0m 1.14 MiB/8.23 MiB           \u001b[2A\n",
      "\u001b[2mlangchain-community \u001b[0m \u001b[32m-----------------\u001b[2m-------------\u001b[0m\u001b[0m 1.31 MiB/2.42 MiB\n",
      "\u001b[2K\u001b[2A\u001b[37m⠇\u001b[0m \u001b[2mPreparing packages...\u001b[0m (2/4)--------------\u001b[0m\u001b[0m 1.47 MiB/8.23 MiB           \u001b[2A\n",
      "\u001b[2mlangchain-community \u001b[0m \u001b[32m--------------------\u001b[2m----------\u001b[0m\u001b[0m 1.53 MiB/2.42 MiB\n",
      "\u001b[2K\u001b[2A\u001b[37m⠇\u001b[0m \u001b[2mPreparing packages...\u001b[0m (2/4)--------------\u001b[0m\u001b[0m 1.87 MiB/8.23 MiB           \u001b[2A\n",
      "\u001b[2mlangchain-community \u001b[0m \u001b[32m---------------------------\u001b[2m---\u001b[0m\u001b[0m 2.13 MiB/2.42 MiB\n",
      "\u001b[2K\u001b[2A\u001b[37m⠇\u001b[0m \u001b[2mPreparing packages...\u001b[0m (2/4)--------------\u001b[0m\u001b[0m 2.00 MiB/8.23 MiB           \u001b[2A\n",
      "\u001b[2K\u001b[1A\u001b[37m⠇\u001b[0m \u001b[2mPreparing packages...\u001b[0m (2/4)--------------\u001b[0m\u001b[0m 2.02 MiB/8.23 MiB           \u001b[1A\n",
      "\u001b[2K\u001b[1A\u001b[37m⠋\u001b[0m \u001b[2mPreparing packages...\u001b[0m (3/4)--------------\u001b[0m\u001b[0m 2.62 MiB/8.23 MiB           \u001b[1A\n",
      "\u001b[2K\u001b[1A\u001b[37m⠋\u001b[0m \u001b[2mPreparing packages...\u001b[0m (3/4)--------------\u001b[0m\u001b[0m 2.69 MiB/8.23 MiB           \u001b[1A\n",
      "\u001b[2K\u001b[1A\u001b[37m⠋\u001b[0m \u001b[2mPreparing packages...\u001b[0m (3/4)--------------\u001b[0m\u001b[0m 3.36 MiB/8.23 MiB           \u001b[1A\n",
      "\u001b[2K\u001b[1A\u001b[37m⠋\u001b[0m \u001b[2mPreparing packages...\u001b[0m (3/4)--------------\u001b[0m\u001b[0m 3.37 MiB/8.23 MiB           \u001b[1A\n",
      "\u001b[2K\u001b[1A\u001b[37m⠙\u001b[0m \u001b[2mPreparing packages...\u001b[0m (3/4)--------------\u001b[0m\u001b[0m 3.80 MiB/8.23 MiB           \u001b[1A\n",
      "\u001b[2K\u001b[1A\u001b[37m⠙\u001b[0m \u001b[2mPreparing packages...\u001b[0m (3/4)--------------\u001b[0m\u001b[0m 4.07 MiB/8.23 MiB           \u001b[1A\n",
      "\u001b[2K\u001b[1A\u001b[37m⠙\u001b[0m \u001b[2mPreparing packages...\u001b[0m (3/4)2m------------\u001b[0m\u001b[0m 4.79 MiB/8.23 MiB           \u001b[1A\n",
      "\u001b[2K\u001b[1A\u001b[37m⠙\u001b[0m \u001b[2mPreparing packages...\u001b[0m (3/4)2m------------\u001b[0m\u001b[0m 4.81 MiB/8.23 MiB           \u001b[1A\n",
      "\u001b[2K\u001b[1A\u001b[37m⠹\u001b[0m \u001b[2mPreparing packages...\u001b[0m (3/4)2m------------\u001b[0m\u001b[0m 4.82 MiB/8.23 MiB           \u001b[1A\n",
      "\u001b[2K\u001b[1A\u001b[37m⠹\u001b[0m \u001b[2mPreparing packages...\u001b[0m (3/4)\u001b[2m----------\u001b[0m\u001b[0m 5.47 MiB/8.23 MiB           \u001b[1A\n",
      "\u001b[2K\u001b[1A\u001b[37m⠸\u001b[0m \u001b[2mPreparing packages...\u001b[0m (3/4)\u001b[2m----------\u001b[0m\u001b[0m 5.48 MiB/8.23 MiB           \u001b[1A\n",
      "\u001b[2K\u001b[1A\u001b[37m⠸\u001b[0m \u001b[2mPreparing packages...\u001b[0m (3/4)---\u001b[2m-------\u001b[0m\u001b[0m 6.09 MiB/8.23 MiB           \u001b[1A\n",
      "\u001b[2K\u001b[1A\u001b[37m⠸\u001b[0m \u001b[2mPreparing packages...\u001b[0m (3/4)---\u001b[2m-------\u001b[0m\u001b[0m 6.15 MiB/8.23 MiB           \u001b[1A\n",
      "\u001b[2K\u001b[1A\u001b[37m⠼\u001b[0m \u001b[2mPreparing packages...\u001b[0m (3/4)----\u001b[2m------\u001b[0m\u001b[0m 6.33 MiB/8.23 MiB           \u001b[1A\n",
      "\u001b[2K\u001b[1A\u001b[37m⠼\u001b[0m \u001b[2mPreparing packages...\u001b[0m (3/4)-----\u001b[2m-----\u001b[0m\u001b[0m 6.79 MiB/8.23 MiB           \u001b[1A\n",
      "\u001b[2K\u001b[1A\u001b[37m⠼\u001b[0m \u001b[2mPreparing packages...\u001b[0m (3/4)-----\u001b[2m-----\u001b[0m\u001b[0m 6.81 MiB/8.23 MiB           \u001b[1A\n",
      "\u001b[2K\u001b[1A\u001b[37m⠼\u001b[0m \u001b[2mPreparing packages...\u001b[0m (3/4)-----\u001b[2m-----\u001b[0m\u001b[0m 6.83 MiB/8.23 MiB           \u001b[1A\n",
      "\u001b[2K\u001b[1A\u001b[37m⠴\u001b[0m \u001b[2mPreparing packages...\u001b[0m (3/4)-----\u001b[2m-----\u001b[0m\u001b[0m 6.84 MiB/8.23 MiB           \u001b[1A\n",
      "\u001b[2K\u001b[1A\u001b[37m⠴\u001b[0m \u001b[2mPreparing packages...\u001b[0m (3/4)----------\u001b[2m\u001b[0m\u001b[0m 8.19 MiB/8.23 MiB           \u001b[1A\n",
      "\u001b[2K\u001b[1A\u001b[37m⠴\u001b[0m \u001b[2mPreparing packages...\u001b[0m (3/4)----------\u001b[2m\u001b[0m\u001b[0m 8.19 MiB/8.23 MiB           \u001b[1A\n",
      "\u001b[2K\u001b[1A\u001b[37m⠴\u001b[0m \u001b[2mPreparing packages...\u001b[0m (3/4)----------\u001b[2m\u001b[0m\u001b[0m 8.20 MiB/8.23 MiB           \u001b[1A\n",
      "\u001b[2K\u001b[2mPrepared \u001b[1m4 packages\u001b[0m \u001b[2min 2.68s\u001b[0m\u001b[0m                                                 \u001b[1A\n",
      "\u001b[2K\u001b[2mInstalled \u001b[1m22 packages\u001b[0m \u001b[2min 42ms\u001b[0m\u001b[0m                               \u001b[0m\n",
      " \u001b[32m+\u001b[39m \u001b[1maiohappyeyeballs\u001b[0m\u001b[2m==2.6.1\u001b[0m\n",
      " \u001b[32m+\u001b[39m \u001b[1maiohttp\u001b[0m\u001b[2m==3.12.15\u001b[0m\n",
      " \u001b[32m+\u001b[39m \u001b[1maiosignal\u001b[0m\u001b[2m==1.4.0\u001b[0m\n",
      " \u001b[32m+\u001b[39m \u001b[1mattrs\u001b[0m\u001b[2m==25.3.0\u001b[0m\n",
      " \u001b[32m+\u001b[39m \u001b[1mbrotli\u001b[0m\u001b[2m==1.1.0\u001b[0m\n",
      " \u001b[32m+\u001b[39m \u001b[1mclick\u001b[0m\u001b[2m==8.3.0\u001b[0m\n",
      " \u001b[32m+\u001b[39m \u001b[1mdataclasses-json\u001b[0m\u001b[2m==0.6.7\u001b[0m\n",
      " \u001b[32m+\u001b[39m \u001b[1mddgs\u001b[0m\u001b[2m==9.6.0\u001b[0m\n",
      " \u001b[32m+\u001b[39m \u001b[1mduckduckgo-search\u001b[0m\u001b[2m==8.1.1\u001b[0m\n",
      " \u001b[32m+\u001b[39m \u001b[1mfrozenlist\u001b[0m\u001b[2m==1.7.0\u001b[0m\n",
      " \u001b[32m+\u001b[39m \u001b[1mhttpx-sse\u001b[0m\u001b[2m==0.4.1\u001b[0m\n",
      " \u001b[32m+\u001b[39m \u001b[1mlangchain-community\u001b[0m\u001b[2m==0.3.30\u001b[0m\n",
      " \u001b[32m+\u001b[39m \u001b[1mlxml\u001b[0m\u001b[2m==6.0.2\u001b[0m\n",
      " \u001b[32m+\u001b[39m \u001b[1mmarshmallow\u001b[0m\u001b[2m==3.26.1\u001b[0m\n",
      " \u001b[32m+\u001b[39m \u001b[1mmultidict\u001b[0m\u001b[2m==6.6.4\u001b[0m\n",
      " \u001b[32m+\u001b[39m \u001b[1mmypy-extensions\u001b[0m\u001b[2m==1.1.0\u001b[0m\n",
      " \u001b[32m+\u001b[39m \u001b[1mprimp\u001b[0m\u001b[2m==0.15.0\u001b[0m\n",
      " \u001b[32m+\u001b[39m \u001b[1mpropcache\u001b[0m\u001b[2m==0.3.2\u001b[0m\n",
      " \u001b[32m+\u001b[39m \u001b[1mpydantic-settings\u001b[0m\u001b[2m==2.11.0\u001b[0m\n",
      " \u001b[32m+\u001b[39m \u001b[1msocksio\u001b[0m\u001b[2m==1.0.0\u001b[0m\n",
      " \u001b[32m+\u001b[39m \u001b[1mtyping-inspect\u001b[0m\u001b[2m==0.9.0\u001b[0m\n",
      " \u001b[32m+\u001b[39m \u001b[1myarl\u001b[0m\u001b[2m==1.20.1\u001b[0m\n"
     ]
    }
   ],
   "source": [
    "!uv pip install duckduckgo-search langchain-community ddgs"
   ]
  },
  {
   "cell_type": "code",
   "execution_count": 20,
   "id": "f67fc895",
   "metadata": {},
   "outputs": [],
   "source": [
    "from langchain_community.tools import DuckDuckGoSearchRun, DuckDuckGoSearchResults\n",
    "from langchain.tools import tool\n",
    "from langchain.agents import AgentExecutor, create_react_agent\n",
    "from langchain.prompts import PromptTemplate\n",
    "from langchain_openai import ChatOpenAI\n",
    "from typing import List, Dict\n",
    "import redis\n",
    "import logging"
   ]
  },
  {
   "cell_type": "code",
   "execution_count": 21,
   "id": "1f792b75",
   "metadata": {},
   "outputs": [],
   "source": [
    "logging.basicConfig(level=logging.INFO,format=\"%(asctime)s - %(levelname)s - %(message)s\")\n",
    "logger = logging.getLogger(__name__)"
   ]
  },
  {
   "cell_type": "code",
   "execution_count": null,
   "id": "ec10b8ad",
   "metadata": {},
   "outputs": [],
   "source": [
    "def add_order_status(order_id: List[Dict[str, str]]) -> bool:\n",
    "    \"\"\"\n",
    "    Add an order status to redis with the given ID.\n",
    "\n",
    "    Args:\n",
    "        order_id (str): The ID of the order to add the status to.\n",
    "        order_status (str): The status to add to the order.\n",
    "\n",
    "    Returns:\n",
    "        str: A message indicating that the order status has been added.\n",
    "    \"\"\"\n",
    "    try:\n",
    "        if order_id:\n",
    "            r = redis.Redis(\n",
    "                host=\"localhost\", \n",
    "                port=6379, \n",
    "                db=0,\n",
    "                socket_connect_timeout=5,\n",
    "                socket_timeout=5,\n",
    "                retry_on_timeout=True,\n",
    "                decode_responses=True\n",
    "            )\n",
    "            \n",
    "            # 测试连接\n",
    "            r.ping()\n",
    "            \n",
    "            for order in order_id:\n",
    "                order_id_key = order[\"order_id\"]\n",
    "                order_status = order[\"order_status\"]\n",
    "                r.set(order_id_key, order_status)\n",
    "                r.expire(order_id_key, 60 * 60 * 24 * 7)  # 7天后过期（便于测试）\n",
    "            \n",
    "            logger.info(f\"订单状态已添加到redis\")\n",
    "            return True\n",
    "    except Exception as e:\n",
    "        logger.error(f\"添加订单状态失败: {str(e)}\")\n",
    "        return False"
   ]
  },
  {
   "cell_type": "code",
   "execution_count": null,
   "id": "4b26808a",
   "metadata": {},
   "outputs": [],
   "source": [
    "def get_order_status(order_id: str) -> str:\n",
    "    \"\"\"\n",
    "    通过订单ID查询订单状态.\n",
    "    \"\"\"\n",
    "    try:\n",
    "        # 处理可能的字节串输入\n",
    "        if isinstance(order_id, bytes):\n",
    "            order_id = order_id.decode('utf-8')\n",
    "        \n",
    "        # 清理输入，移除可能的换行符和多余字符\n",
    "        order_id = order_id.strip()\n",
    "        \n",
    "        logger.info(f\"查询订单状态: {order_id}\")\n",
    "        \n",
    "        # 使用连接池和更稳定的连接配置\n",
    "        r = redis.Redis(\n",
    "            host=\"localhost\", \n",
    "            port=6379, \n",
    "            db=0, # 自动解码响应\n",
    "            decode_responses=True\n",
    "        )\n",
    "        \n",
    "        # 测试连接\n",
    "        r.ping()\n",
    "        \n",
    "        order_status = r.get(order_id)\n",
    "        \n",
    "        if order_status is None:\n",
    "            logger.info(f\"订单状态: None\")\n",
    "            return \"订单不存在\"\n",
    "        \n",
    "        logger.info(f\"订单状态: {order_status}\")\n",
    "        return order_status\n",
    "    except redis.ConnectionError as e:\n",
    "        logger.error(f\"Redis连接失败: {str(e)}\")\n",
    "        return \"连接失败\"\n",
    "    except redis.TimeoutError as e:\n",
    "        logger.error(f\"Redis超时: {str(e)}\")\n",
    "        return \"查询超时\"\n",
    "    except Exception as e:\n",
    "        logger.error(f\"查询订单状态失败: {str(e)}\")\n",
    "        return \"查询失败\""
   ]
  },
  {
   "cell_type": "code",
   "execution_count": 10,
   "id": "75249264",
   "metadata": {},
   "outputs": [
    {
     "name": "stderr",
     "output_type": "stream",
     "text": [
      "2025-10-01 16:51:44,076 - INFO - 订单状态已添加到redis\n"
     ]
    },
    {
     "data": {
      "text/plain": [
       "True"
      ]
     },
     "execution_count": 10,
     "metadata": {},
     "output_type": "execute_result"
    }
   ],
   "source": [
    "order_id = [{\"order_id\": \"00123456\", \"order_status\": \"订单出库中.....\"},\n",
    "{\"order_id\": \"00123457\", \"order_status\": \"订单已出库，目前转运中，预计2-3天到达\"},\n",
    "{\"order_id\": \"00123458\", \"order_status\": \"订单已到达转运中心，等待分拣\"},\n",
    "{\"order_id\": \"00123459\", \"order_status\": \"订单已分拣，等待派送\"},\n",
    "{\"order_id\": \"00123460\", \"order_status\": \"订单已派送，预计2-3天到达\"},\n",
    "]\n",
    "\n",
    "add_order_status(order_id)\n"
   ]
  },
  {
   "cell_type": "code",
   "execution_count": 90,
   "id": "4d88b9fd",
   "metadata": {},
   "outputs": [
    {
     "name": "stderr",
     "output_type": "stream",
     "text": [
      "2025-10-01 18:06:12,935 - INFO - 查询订单状态: 00123456\n",
      "2025-10-01 18:06:12,941 - INFO - 订单状态: b'\\xe8\\xae\\xa2\\xe5\\x8d\\x95\\xe5\\x87\\xba\\xe5\\xba\\x93\\xe4\\xb8\\xad.....'\n"
     ]
    },
    {
     "name": "stdout",
     "output_type": "stream",
     "text": [
      "b'\\xe8\\xae\\xa2\\xe5\\x8d\\x95\\xe5\\x87\\xba\\xe5\\xba\\x93\\xe4\\xb8\\xad.....'\n"
     ]
    }
   ],
   "source": [
    "result=get_order_status(\"00123456\")\n",
    "#result 如何做字符集转换\n",
    "print(result)\n"
   ]
  },
  {
   "cell_type": "code",
   "execution_count": 98,
   "id": "444d6bfa",
   "metadata": {},
   "outputs": [],
   "source": [
    "search_wrapper = DuckDuckGoSearchResults(output_format=\"list\")\n",
    "\n",
    "\n",
    "@tool(\"my_search_tool\")\n",
    "def search_tool(query: str) -> List[str]:\n",
    "    \"\"\"\n",
    "    通过搜索引擎查询.\n",
    "    \"\"\"\n",
    "    result = search_wrapper.invoke(query)\n",
    "    return [res[\"snippet\"] for res in result]\n",
    "\n",
    "\n",
    "# logger.info(search_tool.name)\n",
    "# logger.info(search_tool.description)\n",
    "# logger.info(search_tool.args)\n",
    "\n",
    "@tool(\"get_order_status_tool\")\n",
    "def get_order_status_tool(order_id: str) -> str:\n",
    "    \"\"\"\n",
    "    通过订单ID查询订单状态。只需要提供8位数字的订单ID。\n",
    "\n",
    "    参数:\n",
    "        order_id: 8位数字订单号,例如 \"00123456\"\n",
    "\n",
    "    返回:\n",
    "        订单状态字符串\n",
    "    \"\"\"\n",
    "    try:\n",
    "        # 处理可能的字节串输入\n",
    "        if isinstance(order_id, bytes):\n",
    "            order_id = order_id.decode(\"utf-8\")\n",
    "\n",
    "        # 清理输入,移除可能的换行符和多余字符\n",
    "        order_id = order_id.strip()\n",
    "\n",
    "        # 额外清理:只保留数字部分(处理 \"00123456\\nObserv\" 这种情况)\n",
    "        if not order_id.isdigit():\n",
    "            import re\n",
    "            match = re.search(r'\\d{8}', order_id)\n",
    "            if match:\n",
    "                order_id = match.group(0)\n",
    "                logger.info(f\"从输入中提取到订单号: {order_id}\")\n",
    "            else:\n",
    "                logger.warning(f\"无法从输入提取有效订单号: {repr(order_id)}\")\n",
    "                return f\"无效的订单号格式\"\n",
    "\n",
    "        logger.info(f\"工具调用 - 查询订单状态: {order_id}\")\n",
    "\n",
    "        # 直接在这里实现Redis查询,避免调用其他函数\n",
    "        r = redis.Redis(\n",
    "            host=\"localhost\", port=6379, db=0, decode_responses=True  # 自动解码为字符串\n",
    "        )\n",
    "\n",
    "        # 测试连接\n",
    "        r.ping()\n",
    "        logger.info(\"Redis连接测试成功\")\n",
    "\n",
    "        order_status = r.get(order_id)\n",
    "        logger.info(f\"Redis查询结果: {order_status}\")\n",
    "\n",
    "        if order_status is None:\n",
    "            logger.info(f\"订单 {order_id} 不存在\")\n",
    "            return f\"订单 {order_id} 不存在\"\n",
    "\n",
    "        logger.info(f\"订单 {order_id} 状态: {order_status}\")\n",
    "        return f\"订单 {order_id} 的状态是: {order_status}\"\n",
    "\n",
    "    except redis.ConnectionError as e:\n",
    "        logger.error(f\"Redis连接失败: {str(e)}\")\n",
    "        return \"连接失败\"\n",
    "    except redis.TimeoutError as e:\n",
    "        logger.error(f\"Redis超时: {str(e)}\")\n",
    "        return \"查询超时\"\n",
    "    except Exception as e:\n",
    "        logger.error(f\"查询订单状态失败: {str(e)}\")\n",
    "        return f\"查询失败: {str(e)}\"\n",
    "\n",
    "# logger.info(get_order_status_tool.name)\n",
    "# logger.info(get_order_status_tool.description)\n",
    "# logger.info(get_order_status_tool.args)"
   ]
  },
  {
   "cell_type": "code",
   "execution_count": 91,
   "id": "17fac673",
   "metadata": {},
   "outputs": [
    {
     "name": "stderr",
     "output_type": "stream",
     "text": [
      "2025-10-01 18:06:36,647 - INFO - 工具调用 - 查询订单状态: 00123456\n",
      "2025-10-01 18:06:36,651 - INFO - Redis连接测试成功\n",
      "2025-10-01 18:06:36,652 - INFO - Redis查询结果: 订单出库中.....\n",
      "2025-10-01 18:06:36,652 - INFO - 订单状态: 订单出库中.....\n"
     ]
    },
    {
     "data": {
      "text/plain": [
       "'订单出库中.....'"
      ]
     },
     "execution_count": 91,
     "metadata": {},
     "output_type": "execute_result"
    }
   ],
   "source": [
    "get_order_status_tool(\"00123456\")"
   ]
  },
  {
   "cell_type": "code",
   "execution_count": 43,
   "id": "14d14805",
   "metadata": {},
   "outputs": [],
   "source": [
    "import os\n",
    "import dotenv\n",
    "dotenv.load_dotenv()\n",
    "def get_api_key():\n",
    "    api_key=os.getenv(\"OPENAI_API_KEY\")\n",
    "    if not api_key:\n",
    "        raise ValueError(\"未找到OPENAI_API_KEY环境变量\")\n",
    "    return api_key\n",
    "\n",
    "def get_base_url():\n",
    "    base_url=os.getenv(\"OPENAI_BASE_URL\")\n",
    "    if not base_url:\n",
    "        raise ValueError(\"未找到OPENAI_BASE_URL环境变量\")\n",
    "    return base_url\n",
    "\n"
   ]
  },
  {
   "cell_type": "code",
   "execution_count": null,
   "id": "a954dbc7",
   "metadata": {},
   "outputs": [],
   "source": [
    "def create_react_search_agent() -> AgentExecutor:\n",
    "    tools = [search_tool, get_order_status_tool]\n",
    "    llm = ChatOpenAI(\n",
    "        model=\"qwen3-max\", temperature=0.3, api_key=get_api_key(), base_url=get_base_url()\n",
    "    )\n",
    "    #prompt中对于模型调用函数的入参需要关注，有些时候会带有意向不到的内容，需要进行清理，以及进行提示词的限定，以及在工具中对于参数进行举例和说明\n",
    "    prompt = PromptTemplate.from_template(\n",
    "        \"\"\"Answer the following questions as best you can. You have access to the following tools:\n",
    "\n",
    "{tools}\n",
    "\n",
    "Use the following format EXACTLY:\n",
    "\n",
    "Question: the input question you must answer\n",
    "Thought: you should always think about what to do\n",
    "Action: the action to take, should be one of [{tool_names}]\n",
    "Action Input: the input to the action (ONLY the parameter value, nothing else)\n",
    "Observation: the result of the action\n",
    "... (this Thought/Action/Action Input/Observation can repeat N times)\n",
    "Thought: I now know the final answer\n",
    "Final Answer: the final answer to the original input question\n",
    "\n",
    "IMPORTANT:\n",
    "- Action Input must be ONLY the parameter value\n",
    "- For get_order_status_tool, Action Input should be ONLY the order ID (e.g., \"00123456\")\n",
    "- Do NOT include any extra text or newlines in Action Input\n",
    "\n",
    "Begin!\n",
    "\n",
    "\n",
    "Question: {input}\n",
    "Thought:{agent_scratchpad}\"\"\"\n",
    "    )\n",
    "    \n",
    "    agent = create_react_agent(llm=llm, tools=tools, prompt=prompt)\n",
    "    return AgentExecutor(\n",
    "        agent=agent,\n",
    "        tools=tools,\n",
    "        verbose=True,\n",
    "        max_iterations=10,\n",
    "        handle_parsing_errors=True,\n",
    "    )"
   ]
  },
  {
   "cell_type": "code",
   "execution_count": 100,
   "id": "3987111b",
   "metadata": {},
   "outputs": [
    {
     "name": "stdout",
     "output_type": "stream",
     "text": [
      "\n",
      "\n",
      "\u001b[1m> Entering new AgentExecutor chain...\u001b[0m\n"
     ]
    },
    {
     "name": "stderr",
     "output_type": "stream",
     "text": [
      "2025-10-01 18:52:00,644 - INFO - HTTP Request: POST https://dashscope.aliyuncs.com/compatible-mode/v1/chat/completions \"HTTP/1.1 200 OK\"\n",
      "2025-10-01 18:52:01,282 - INFO - 从输入中提取到订单号: 00123456\n",
      "2025-10-01 18:52:01,283 - INFO - 工具调用 - 查询订单状态: 00123456\n",
      "2025-10-01 18:52:01,288 - INFO - Redis连接测试成功\n",
      "2025-10-01 18:52:01,289 - INFO - Redis查询结果: 订单出库中.....\n",
      "2025-10-01 18:52:01,289 - INFO - 订单 00123456 状态: 订单出库中.....\n"
     ]
    },
    {
     "name": "stdout",
     "output_type": "stream",
     "text": [
      "\u001b[32;1m\u001b[1;3m需要查询订单状态，应该使用get_order_status_tool工具\n",
      "Action: get_order_status_tool\n",
      "Action Input: 00123456\n",
      "Observ\u001b[0m\u001b[33;1m\u001b[1;3m订单 00123456 的状态是: 订单出库中.....\u001b[0m"
     ]
    },
    {
     "name": "stderr",
     "output_type": "stream",
     "text": [
      "2025-10-01 18:52:02,477 - INFO - HTTP Request: POST https://dashscope.aliyuncs.com/compatible-mode/v1/chat/completions \"HTTP/1.1 200 OK\"\n"
     ]
    },
    {
     "name": "stdout",
     "output_type": "stream",
     "text": [
      "\u001b[32;1m\u001b[1;3mThought: I now know the final answer\n",
      "Final Answer: 订单 00123456 的状态是: 订单出库中.....\u001b[0m\n",
      "\n",
      "\u001b[1m> Finished chain.\u001b[0m\n",
      "订单 00123456 的状态是: 订单出库中.....\n",
      "--------------------------------------------------\n",
      "\n",
      "\n",
      "\u001b[1m> Entering new AgentExecutor chain...\u001b[0m\n"
     ]
    },
    {
     "name": "stderr",
     "output_type": "stream",
     "text": [
      "2025-10-01 18:52:03,423 - INFO - HTTP Request: POST https://dashscope.aliyuncs.com/compatible-mode/v1/chat/completions \"HTTP/1.1 200 OK\"\n",
      "2025-10-01 18:52:04,430 - INFO - 从输入中提取到订单号: 00123459\n",
      "2025-10-01 18:52:04,430 - INFO - 工具调用 - 查询订单状态: 00123459\n",
      "2025-10-01 18:52:04,436 - INFO - Redis连接测试成功\n",
      "2025-10-01 18:52:04,437 - INFO - Redis查询结果: 订单已分拣，等待派送\n",
      "2025-10-01 18:52:04,437 - INFO - 订单 00123459 状态: 订单已分拣，等待派送\n"
     ]
    },
    {
     "name": "stdout",
     "output_type": "stream",
     "text": [
      "\u001b[32;1m\u001b[1;3m需要查询订单状态，应该使用get_order_status_tool工具\n",
      "Action: get_order_status_tool\n",
      "Action Input: 00123459\n",
      "Observ\u001b[0m\u001b[33;1m\u001b[1;3m订单 00123459 的状态是: 订单已分拣，等待派送\u001b[0m"
     ]
    },
    {
     "name": "stderr",
     "output_type": "stream",
     "text": [
      "2025-10-01 18:52:05,097 - INFO - HTTP Request: POST https://dashscope.aliyuncs.com/compatible-mode/v1/chat/completions \"HTTP/1.1 200 OK\"\n"
     ]
    },
    {
     "name": "stdout",
     "output_type": "stream",
     "text": [
      "\u001b[32;1m\u001b[1;3mI now know the final answer  \n",
      "Final Answer: 订单 00123459 的状态是: 订单已分拣，等待派送\u001b[0m\n",
      "\n",
      "\u001b[1m> Finished chain.\u001b[0m\n",
      "订单 00123459 的状态是: 订单已分拣，等待派送\n",
      "--------------------------------------------------\n"
     ]
    }
   ],
   "source": [
    "agent = create_react_search_agent()\n",
    "\n",
    "questions = [\"查询订单状态 00123456\", \"查询快递状态 00123459\"]\n",
    "\n",
    "for question in questions:\n",
    "    result = agent.invoke({\"input\": question})\n",
    "    print(result[\"output\"])\n",
    "    print(\"-\"*50)"
   ]
  }
 ],
 "metadata": {
  "kernelspec": {
   "display_name": ".venv",
   "language": "python",
   "name": "python3"
  },
  "language_info": {
   "codemirror_mode": {
    "name": "ipython",
    "version": 3
   },
   "file_extension": ".py",
   "mimetype": "text/x-python",
   "name": "python",
   "nbconvert_exporter": "python",
   "pygments_lexer": "ipython3",
   "version": "3.11.13"
  }
 },
 "nbformat": 4,
 "nbformat_minor": 5
}
